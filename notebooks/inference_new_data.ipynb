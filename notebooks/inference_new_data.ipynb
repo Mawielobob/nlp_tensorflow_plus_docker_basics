{
 "cells": [
  {
   "cell_type": "code",
   "execution_count": 62,
   "metadata": {},
   "outputs": [],
   "source": [
    "import pickle\n",
    "import tensorflow as tf"
   ]
  },
  {
   "cell_type": "code",
   "execution_count": 73,
   "metadata": {},
   "outputs": [],
   "source": [
    "# funcs.py\n",
    "from funcs import clean_single_comment, prepare_trainig_data, predict_padded"
   ]
  },
  {
   "cell_type": "markdown",
   "metadata": {},
   "source": [
    "# load tokenizer, model"
   ]
  },
  {
   "cell_type": "code",
   "execution_count": 64,
   "metadata": {},
   "outputs": [],
   "source": [
    "tokenizer_path = '../output/tokenizer.pickle'\n",
    "model_path = '../output/model_lstm_oversample'"
   ]
  },
  {
   "cell_type": "code",
   "execution_count": 65,
   "metadata": {},
   "outputs": [],
   "source": [
    "# loading\n",
    "with open(tokenizer_path, 'rb') as file:\n",
    "    tokenizer = pickle.load(file)"
   ]
  },
  {
   "cell_type": "code",
   "execution_count": 66,
   "metadata": {},
   "outputs": [],
   "source": [
    "# # uncomment if problems with cudnn\n",
    "# physical_devices = tf.config.list_physical_devices('GPU')\n",
    "# tf.config.experimental.set_memory_growth(physical_devices[0], enable=True)"
   ]
  },
  {
   "cell_type": "code",
   "execution_count": 67,
   "metadata": {},
   "outputs": [],
   "source": [
    "model = tf.keras.models.load_model(model_path)"
   ]
  },
  {
   "cell_type": "code",
   "execution_count": 68,
   "metadata": {},
   "outputs": [],
   "source": [
    "# these should be loaded from config (eg. (dict) json file)\n",
    "max_length = 140\n",
    "trunc_type='post'"
   ]
  },
  {
   "cell_type": "markdown",
   "metadata": {},
   "source": [
    "# make a single comment prediction"
   ]
  },
  {
   "cell_type": "code",
   "execution_count": 71,
   "metadata": {},
   "outputs": [],
   "source": [
    "def decode_prediction(prediction):\n",
    "    \n",
    "    prediction = int(prediction)\n",
    "    \n",
    "    if prediction not in [0,1,2]:\n",
    "        print('Prediction not in [0,1,2]. Program stopped')\n",
    "        exit()\n",
    "   \n",
    "    print('Comment is: ')\n",
    "    \n",
    "    if prediction==0:\n",
    "        print('Neutral')\n",
    "    elif prediction==1:\n",
    "        print('Positive')\n",
    "    else:\n",
    "        print('Negative')\n",
    "        \n",
    "\n",
    "def make_single_comment_prediction(comment, model):\n",
    "    \n",
    "    comment = clean_single_comment(comment)\n",
    "#     print(comment)\n",
    "    \n",
    "    padded = prepare_trainig_data([comment], max_length, trunc_type, tokenizer)\n",
    "    print(padded.shape)\n",
    "    \n",
    "    # predict\n",
    "    prediction = predict_padded(model, padded)\n",
    "    \n",
    "    # print results\n",
    "    decode_prediction(prediction)"
   ]
  },
  {
   "cell_type": "markdown",
   "metadata": {},
   "source": [
    "### after running the function, enter a comment to be checked"
   ]
  },
  {
   "cell_type": "code",
   "execution_count": 72,
   "metadata": {},
   "outputs": [
    {
     "name": "stdout",
     "output_type": "stream",
     "text": [
      "Please paste a comment to check: Cudowne, na prawdę cudowne rozwiazanie. :))) !! I dodatkowo jaka skroma ta dziewczyna! (:\n",
      "(1, 140)\n",
      "Comment is: \n",
      "Neutral\n"
     ]
    }
   ],
   "source": [
    "make_single_comment_prediction(input('Please paste a comment to check: '), model)"
   ]
  },
  {
   "cell_type": "code",
   "execution_count": null,
   "metadata": {},
   "outputs": [],
   "source": []
  },
  {
   "cell_type": "code",
   "execution_count": null,
   "metadata": {},
   "outputs": [],
   "source": []
  }
 ],
 "metadata": {
  "kernelspec": {
   "display_name": "Python 3",
   "language": "python",
   "name": "python3"
  },
  "language_info": {
   "codemirror_mode": {
    "name": "ipython",
    "version": 3
   },
   "file_extension": ".py",
   "mimetype": "text/x-python",
   "name": "python",
   "nbconvert_exporter": "python",
   "pygments_lexer": "ipython3",
   "version": "3.7.6"
  }
 },
 "nbformat": 4,
 "nbformat_minor": 4
}
